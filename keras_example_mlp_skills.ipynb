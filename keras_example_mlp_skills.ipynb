{
 "cells": [
  {
   "cell_type": "code",
   "execution_count": 1,
   "metadata": {},
   "outputs": [],
   "source": [
    "import tensorflow as tf\n",
    "from tensorflow.keras import layers\n",
    "from tensorflow import keras"
   ]
  },
  {
   "cell_type": "code",
   "execution_count": 2,
   "metadata": {},
   "outputs": [],
   "source": [
    "# print(\"GPU Available: \", tf.test.is_gpu_available())\n",
    "# tf.debugging.set_log_device_placement(True)"
   ]
  },
  {
   "cell_type": "code",
   "execution_count": 3,
   "metadata": {},
   "outputs": [
    {
     "name": "stdout",
     "output_type": "stream",
     "text": [
      "1 Physical GPUs, 1 Logical GPUs\n"
     ]
    }
   ],
   "source": [
    "# gpus = tf.config.experimental.list_physical_devices('GPU')\n",
    "# if gpus:\n",
    "#   # Restrict TensorFlow to only use the first GPU\n",
    "#   try:\n",
    "#     tf.config.experimental.set_visible_devices(gpus[0], 'GPU')\n",
    "#     logical_gpus = tf.config.experimental.list_logical_devices('GPU')\n",
    "#     print(len(gpus), \"Physical GPUs,\", len(logical_gpus), \"Logical GPU\")\n",
    "#   except RuntimeError as e:\n",
    "#     # Visible devices must be set before GPUs have been initialized\n",
    "#     print(e)\n",
    "    \n",
    "gpus = tf.config.experimental.list_physical_devices('GPU')\n",
    "if gpus:\n",
    "  # Restrict TensorFlow to only allocate 1GB of memory on the first GPU\n",
    "  try:\n",
    "    tf.config.experimental.set_virtual_device_configuration(\n",
    "        gpus[0],\n",
    "        [tf.config.experimental.VirtualDeviceConfiguration(memory_limit=3072)])\n",
    "    logical_gpus = tf.config.experimental.list_logical_devices('GPU')\n",
    "    print(len(gpus), \"Physical GPUs,\", len(logical_gpus), \"Logical GPUs\")\n",
    "  except RuntimeError as e:\n",
    "    # Virtual devices must be set before GPUs have been initialized\n",
    "    print(e)"
   ]
  },
  {
   "cell_type": "code",
   "execution_count": null,
   "metadata": {},
   "outputs": [],
   "source": []
  },
  {
   "cell_type": "code",
   "execution_count": 4,
   "metadata": {},
   "outputs": [],
   "source": [
    "# 我们将以mlp对为，基础模型，然后介绍一些深度学习常见技巧， 如：\n",
    "# 权重初始化， 激活函数， 优化器， 批规范化， dropout，模型集成"
   ]
  },
  {
   "cell_type": "code",
   "execution_count": 6,
   "metadata": {},
   "outputs": [
    {
     "name": "stdout",
     "output_type": "stream",
     "text": [
      "(60000, 784)   (60000,)\n",
      "(10000, 784)   (10000,)\n"
     ]
    }
   ],
   "source": [
    "(x_train, y_train), (x_test, y_test) = keras.datasets.mnist.load_data()\n",
    "x_train = x_train.reshape([x_train.shape[0], -1])\n",
    "x_test = x_test.reshape([x_test.shape[0], -1])\n",
    "print(x_train.shape, ' ', y_train.shape)\n",
    "print(x_test.shape, ' ', y_test.shape)\n"
   ]
  },
  {
   "cell_type": "code",
   "execution_count": 7,
   "metadata": {},
   "outputs": [],
   "source": [
    "# 2.基础模型"
   ]
  },
  {
   "cell_type": "code",
   "execution_count": 8,
   "metadata": {},
   "outputs": [
    {
     "name": "stdout",
     "output_type": "stream",
     "text": [
      "Model: \"sequential\"\n",
      "_________________________________________________________________\n",
      "Layer (type)                 Output Shape              Param #   \n",
      "=================================================================\n",
      "dense (Dense)                (None, 64)                50240     \n",
      "_________________________________________________________________\n",
      "dense_1 (Dense)              (None, 64)                4160      \n",
      "_________________________________________________________________\n",
      "dense_2 (Dense)              (None, 64)                4160      \n",
      "_________________________________________________________________\n",
      "dense_3 (Dense)              (None, 10)                650       \n",
      "=================================================================\n",
      "Total params: 59,210\n",
      "Trainable params: 59,210\n",
      "Non-trainable params: 0\n",
      "_________________________________________________________________\n"
     ]
    }
   ],
   "source": [
    "model = keras.Sequential([\n",
    "    layers.Dense(64, activation='relu', input_shape=(784,)),\n",
    "    layers.Dense(64, activation='relu'),\n",
    "    layers.Dense(64, activation='relu'),\n",
    "    layers.Dense(10, activation='softmax')\n",
    "])\n",
    "model.compile(optimizer=keras.optimizers.Adam(),\n",
    "             loss=keras.losses.SparseCategoricalCrossentropy(),\n",
    "             metrics=['accuracy'])\n",
    "model.summary()\n"
   ]
  },
  {
   "cell_type": "code",
   "execution_count": 9,
   "metadata": {},
   "outputs": [
    {
     "name": "stderr",
     "output_type": "stream",
     "text": [
      "WARNING: Logging before flag parsing goes to stderr.\n",
      "W0711 06:07:40.509709 140563961509632 deprecation.py:323] From /usr/local/lib/python3.5/dist-packages/tensorflow/python/ops/math_grad.py:1250: add_dispatch_support.<locals>.wrapper (from tensorflow.python.ops.array_ops) is deprecated and will be removed in a future version.\n",
      "Instructions for updating:\n",
      "Use tf.where in 2.0, which has the same broadcast rule as np.where\n"
     ]
    },
    {
     "name": "stdout",
     "output_type": "stream",
     "text": [
      "Train on 42000 samples, validate on 18000 samples\n",
      "Epoch 1/100\n",
      "42000/42000 [==============================] - 2s 47us/sample - loss: 8.2464 - accuracy: 0.4807 - val_loss: 7.1473 - val_accuracy: 0.5509\n",
      "Epoch 2/100\n",
      "42000/42000 [==============================] - 1s 33us/sample - loss: 5.8212 - accuracy: 0.6318 - val_loss: 5.4804 - val_accuracy: 0.6540\n",
      "Epoch 3/100\n",
      "42000/42000 [==============================] - 1s 33us/sample - loss: 3.7419 - accuracy: 0.7581 - val_loss: 2.6328 - val_accuracy: 0.8276\n",
      "Epoch 4/100\n",
      "42000/42000 [==============================] - 1s 31us/sample - loss: 2.5026 - accuracy: 0.8372 - val_loss: 2.4999 - val_accuracy: 0.8368\n",
      "Epoch 5/100\n",
      "42000/42000 [==============================] - 1s 32us/sample - loss: 2.3123 - accuracy: 0.8500 - val_loss: 2.4904 - val_accuracy: 0.8381\n",
      "Epoch 6/100\n",
      "42000/42000 [==============================] - 1s 33us/sample - loss: 2.2630 - accuracy: 0.8531 - val_loss: 2.3505 - val_accuracy: 0.8476\n",
      "Epoch 7/100\n",
      "42000/42000 [==============================] - 1s 32us/sample - loss: 2.1712 - accuracy: 0.8595 - val_loss: 2.2760 - val_accuracy: 0.8526\n",
      "Epoch 8/100\n",
      "42000/42000 [==============================] - 1s 32us/sample - loss: 2.1289 - accuracy: 0.8622 - val_loss: 2.2984 - val_accuracy: 0.8515\n",
      "Epoch 9/100\n",
      "42000/42000 [==============================] - 1s 34us/sample - loss: 2.1040 - accuracy: 0.8636 - val_loss: 2.2112 - val_accuracy: 0.8571\n",
      "Epoch 10/100\n",
      "42000/42000 [==============================] - 1s 31us/sample - loss: 2.0450 - accuracy: 0.8680 - val_loss: 2.1436 - val_accuracy: 0.8607\n",
      "Epoch 11/100\n",
      "42000/42000 [==============================] - 1s 33us/sample - loss: 1.9816 - accuracy: 0.8720 - val_loss: 2.1303 - val_accuracy: 0.8627\n",
      "Epoch 12/100\n",
      "42000/42000 [==============================] - 1s 33us/sample - loss: 1.9804 - accuracy: 0.8719 - val_loss: 2.1857 - val_accuracy: 0.8586\n",
      "Epoch 13/100\n",
      "42000/42000 [==============================] - 1s 32us/sample - loss: 2.0029 - accuracy: 0.8702 - val_loss: 2.1300 - val_accuracy: 0.8622\n",
      "Epoch 14/100\n",
      "42000/42000 [==============================] - 1s 32us/sample - loss: 1.9670 - accuracy: 0.8732 - val_loss: 2.1606 - val_accuracy: 0.8606\n",
      "Epoch 15/100\n",
      "42000/42000 [==============================] - 1s 34us/sample - loss: 1.6890 - accuracy: 0.8870 - val_loss: 0.9084 - val_accuracy: 0.9315\n",
      "Epoch 16/100\n",
      "42000/42000 [==============================] - 1s 31us/sample - loss: 0.6349 - accuracy: 0.9517 - val_loss: 0.8374 - val_accuracy: 0.9372\n",
      "Epoch 17/100\n",
      "42000/42000 [==============================] - 1s 33us/sample - loss: 0.7402 - accuracy: 0.9456 - val_loss: 0.7163 - val_accuracy: 0.9466\n",
      "Epoch 18/100\n",
      "42000/42000 [==============================] - 1s 31us/sample - loss: 0.5004 - accuracy: 0.9625 - val_loss: 0.7076 - val_accuracy: 0.9478\n",
      "Epoch 19/100\n",
      "42000/42000 [==============================] - 1s 32us/sample - loss: 0.4551 - accuracy: 0.9654 - val_loss: 0.6060 - val_accuracy: 0.9549\n",
      "Epoch 20/100\n",
      "42000/42000 [==============================] - 1s 31us/sample - loss: 0.4016 - accuracy: 0.9686 - val_loss: 0.5945 - val_accuracy: 0.9549\n",
      "Epoch 21/100\n",
      "42000/42000 [==============================] - 1s 33us/sample - loss: 0.3779 - accuracy: 0.9703 - val_loss: 0.5523 - val_accuracy: 0.9578\n",
      "Epoch 22/100\n",
      "42000/42000 [==============================] - 1s 31us/sample - loss: 0.3362 - accuracy: 0.9736 - val_loss: 0.5419 - val_accuracy: 0.9573\n",
      "Epoch 23/100\n",
      "42000/42000 [==============================] - 1s 33us/sample - loss: 0.3433 - accuracy: 0.9723 - val_loss: 0.5306 - val_accuracy: 0.9593\n",
      "Epoch 24/100\n",
      "42000/42000 [==============================] - 1s 31us/sample - loss: 0.3120 - accuracy: 0.9747 - val_loss: 0.6106 - val_accuracy: 0.9537\n",
      "Epoch 25/100\n",
      "42000/42000 [==============================] - 1s 32us/sample - loss: 0.2801 - accuracy: 0.9770 - val_loss: 0.5396 - val_accuracy: 0.9582\n",
      "Epoch 26/100\n",
      "42000/42000 [==============================] - 1s 32us/sample - loss: 0.2655 - accuracy: 0.9786 - val_loss: 0.5018 - val_accuracy: 0.9607\n",
      "Epoch 27/100\n",
      "42000/42000 [==============================] - 1s 32us/sample - loss: 0.2595 - accuracy: 0.9785 - val_loss: 0.5266 - val_accuracy: 0.9589\n",
      "Epoch 28/100\n",
      "42000/42000 [==============================] - 1s 31us/sample - loss: 0.2426 - accuracy: 0.9803 - val_loss: 0.5158 - val_accuracy: 0.9603\n",
      "Epoch 29/100\n",
      "42000/42000 [==============================] - 1s 32us/sample - loss: 0.2929 - accuracy: 0.9756 - val_loss: 0.4769 - val_accuracy: 0.9606\n",
      "Epoch 30/100\n",
      "42000/42000 [==============================] - 1s 32us/sample - loss: 0.2322 - accuracy: 0.9801 - val_loss: 0.4889 - val_accuracy: 0.9617\n",
      "Epoch 31/100\n",
      "42000/42000 [==============================] - 1s 31us/sample - loss: 0.2451 - accuracy: 0.9790 - val_loss: 0.4725 - val_accuracy: 0.9623\n",
      "Epoch 32/100\n",
      "42000/42000 [==============================] - 1s 32us/sample - loss: 0.2211 - accuracy: 0.9807 - val_loss: 0.4798 - val_accuracy: 0.9625\n",
      "Epoch 33/100\n",
      "42000/42000 [==============================] - 1s 32us/sample - loss: 0.2090 - accuracy: 0.9821 - val_loss: 0.4657 - val_accuracy: 0.9629\n",
      "Epoch 34/100\n",
      "42000/42000 [==============================] - 1s 32us/sample - loss: 0.2036 - accuracy: 0.9821 - val_loss: 0.4781 - val_accuracy: 0.9609\n",
      "Epoch 35/100\n",
      "42000/42000 [==============================] - 1s 31us/sample - loss: 0.1949 - accuracy: 0.9824 - val_loss: 0.4612 - val_accuracy: 0.9627\n",
      "Epoch 36/100\n",
      "42000/42000 [==============================] - 1s 32us/sample - loss: 0.1817 - accuracy: 0.9839 - val_loss: 0.5079 - val_accuracy: 0.9589\n",
      "Epoch 37/100\n",
      "42000/42000 [==============================] - 1s 32us/sample - loss: 0.1795 - accuracy: 0.9842 - val_loss: 0.4670 - val_accuracy: 0.9619\n",
      "Epoch 38/100\n",
      "42000/42000 [==============================] - 1s 32us/sample - loss: 0.1743 - accuracy: 0.9836 - val_loss: 0.4737 - val_accuracy: 0.9604\n",
      "Epoch 39/100\n",
      "42000/42000 [==============================] - 1s 32us/sample - loss: 0.1542 - accuracy: 0.9865 - val_loss: 0.4380 - val_accuracy: 0.9626\n",
      "Epoch 40/100\n",
      "42000/42000 [==============================] - 1s 33us/sample - loss: 0.1420 - accuracy: 0.9870 - val_loss: 0.4383 - val_accuracy: 0.9627\n",
      "Epoch 41/100\n",
      "42000/42000 [==============================] - 1s 32us/sample - loss: 0.1445 - accuracy: 0.9870 - val_loss: 0.4148 - val_accuracy: 0.9638\n",
      "Epoch 42/100\n",
      "42000/42000 [==============================] - 1s 32us/sample - loss: 0.1830 - accuracy: 0.9824 - val_loss: 0.4488 - val_accuracy: 0.9622\n",
      "Epoch 43/100\n",
      "42000/42000 [==============================] - 1s 32us/sample - loss: 0.1528 - accuracy: 0.9862 - val_loss: 0.4199 - val_accuracy: 0.9635\n",
      "Epoch 44/100\n",
      "42000/42000 [==============================] - 1s 32us/sample - loss: 0.1565 - accuracy: 0.9854 - val_loss: 0.4431 - val_accuracy: 0.9623\n",
      "Epoch 45/100\n",
      "42000/42000 [==============================] - 1s 32us/sample - loss: 0.1381 - accuracy: 0.9869 - val_loss: 0.4415 - val_accuracy: 0.9639\n",
      "Epoch 46/100\n",
      "42000/42000 [==============================] - 1s 33us/sample - loss: 0.1277 - accuracy: 0.9879 - val_loss: 0.4321 - val_accuracy: 0.9626\n",
      "Epoch 47/100\n",
      "42000/42000 [==============================] - 1s 31us/sample - loss: 0.1379 - accuracy: 0.9870 - val_loss: 0.4333 - val_accuracy: 0.9622\n",
      "Epoch 48/100\n",
      "42000/42000 [==============================] - 1s 31us/sample - loss: 0.1346 - accuracy: 0.9870 - val_loss: 0.4368 - val_accuracy: 0.9621\n",
      "Epoch 49/100\n",
      "42000/42000 [==============================] - 1s 32us/sample - loss: 0.1235 - accuracy: 0.9878 - val_loss: 0.4062 - val_accuracy: 0.9632\n",
      "Epoch 50/100\n",
      "42000/42000 [==============================] - 1s 32us/sample - loss: 0.1244 - accuracy: 0.9874 - val_loss: 0.3994 - val_accuracy: 0.9640\n",
      "Epoch 51/100\n",
      "42000/42000 [==============================] - 1s 31us/sample - loss: 0.1199 - accuracy: 0.9883 - val_loss: 0.3895 - val_accuracy: 0.9647\n",
      "Epoch 52/100\n",
      "42000/42000 [==============================] - 1s 33us/sample - loss: 0.1111 - accuracy: 0.9886 - val_loss: 0.3781 - val_accuracy: 0.9647\n",
      "Epoch 53/100\n",
      "42000/42000 [==============================] - 1s 31us/sample - loss: 0.1454 - accuracy: 0.9844 - val_loss: 0.4071 - val_accuracy: 0.9630\n",
      "Epoch 54/100\n",
      "42000/42000 [==============================] - 1s 32us/sample - loss: 0.1089 - accuracy: 0.9885 - val_loss: 0.3956 - val_accuracy: 0.9639\n"
     ]
    },
    {
     "name": "stdout",
     "output_type": "stream",
     "text": [
      "Epoch 55/100\n",
      "42000/42000 [==============================] - 1s 33us/sample - loss: 0.1059 - accuracy: 0.9894 - val_loss: 0.4226 - val_accuracy: 0.9602\n",
      "Epoch 56/100\n",
      "42000/42000 [==============================] - 1s 33us/sample - loss: 0.1051 - accuracy: 0.9889 - val_loss: 0.4064 - val_accuracy: 0.9626\n",
      "Epoch 57/100\n",
      "42000/42000 [==============================] - 1s 31us/sample - loss: 0.0852 - accuracy: 0.9911 - val_loss: 0.4173 - val_accuracy: 0.9632\n",
      "Epoch 58/100\n",
      "42000/42000 [==============================] - 1s 31us/sample - loss: 0.1011 - accuracy: 0.9892 - val_loss: 0.4092 - val_accuracy: 0.9639\n",
      "Epoch 59/100\n",
      "42000/42000 [==============================] - 1s 33us/sample - loss: 0.0855 - accuracy: 0.9907 - val_loss: 0.4023 - val_accuracy: 0.9632\n",
      "Epoch 60/100\n",
      "42000/42000 [==============================] - 1s 32us/sample - loss: 0.0760 - accuracy: 0.9922 - val_loss: 0.3809 - val_accuracy: 0.9654\n",
      "Epoch 61/100\n",
      "42000/42000 [==============================] - 1s 31us/sample - loss: 0.0760 - accuracy: 0.9920 - val_loss: 0.3663 - val_accuracy: 0.9652\n",
      "Epoch 62/100\n",
      "42000/42000 [==============================] - 1s 33us/sample - loss: 0.0754 - accuracy: 0.9922 - val_loss: 0.3883 - val_accuracy: 0.9651\n",
      "Epoch 63/100\n",
      "42000/42000 [==============================] - 1s 33us/sample - loss: 0.0744 - accuracy: 0.9921 - val_loss: 0.3901 - val_accuracy: 0.9641\n",
      "Epoch 64/100\n",
      "42000/42000 [==============================] - 1s 32us/sample - loss: 0.0816 - accuracy: 0.9909 - val_loss: 0.3864 - val_accuracy: 0.9639\n",
      "Epoch 65/100\n",
      "42000/42000 [==============================] - 1s 31us/sample - loss: 0.0855 - accuracy: 0.9902 - val_loss: 0.3890 - val_accuracy: 0.9634\n",
      "Epoch 66/100\n",
      "42000/42000 [==============================] - 1s 32us/sample - loss: 0.0777 - accuracy: 0.9911 - val_loss: 0.3672 - val_accuracy: 0.9640\n",
      "Epoch 67/100\n",
      "42000/42000 [==============================] - 1s 33us/sample - loss: 0.0844 - accuracy: 0.9907 - val_loss: 0.3905 - val_accuracy: 0.9638\n",
      "Epoch 68/100\n",
      "42000/42000 [==============================] - 1s 31us/sample - loss: 0.0807 - accuracy: 0.9907 - val_loss: 0.3940 - val_accuracy: 0.9621\n",
      "Epoch 69/100\n",
      "42000/42000 [==============================] - 1s 34us/sample - loss: 0.0839 - accuracy: 0.9907 - val_loss: 0.3664 - val_accuracy: 0.9643\n",
      "Epoch 70/100\n",
      "42000/42000 [==============================] - 1s 31us/sample - loss: 0.0775 - accuracy: 0.9910 - val_loss: 0.3689 - val_accuracy: 0.9642\n",
      "Epoch 71/100\n",
      "42000/42000 [==============================] - 1s 33us/sample - loss: 0.0686 - accuracy: 0.9921 - val_loss: 0.3976 - val_accuracy: 0.9621\n",
      "Epoch 72/100\n",
      "42000/42000 [==============================] - 1s 32us/sample - loss: 0.0735 - accuracy: 0.9915 - val_loss: 0.3668 - val_accuracy: 0.9647\n",
      "Epoch 73/100\n",
      "42000/42000 [==============================] - 1s 32us/sample - loss: 0.0776 - accuracy: 0.9908 - val_loss: 0.3687 - val_accuracy: 0.9649\n",
      "Epoch 74/100\n",
      "42000/42000 [==============================] - 1s 32us/sample - loss: 0.0718 - accuracy: 0.9907 - val_loss: 0.3540 - val_accuracy: 0.9636\n",
      "Epoch 75/100\n",
      "42000/42000 [==============================] - 1s 32us/sample - loss: 0.0676 - accuracy: 0.9916 - val_loss: 0.3260 - val_accuracy: 0.9678\n",
      "Epoch 76/100\n",
      "42000/42000 [==============================] - 1s 32us/sample - loss: 0.0524 - accuracy: 0.9945 - val_loss: 0.3363 - val_accuracy: 0.9668\n",
      "Epoch 77/100\n",
      "42000/42000 [==============================] - 1s 33us/sample - loss: 0.0490 - accuracy: 0.9950 - val_loss: 0.3281 - val_accuracy: 0.9669\n",
      "Epoch 78/100\n",
      "42000/42000 [==============================] - 1s 32us/sample - loss: 0.0437 - accuracy: 0.9952 - val_loss: 0.3081 - val_accuracy: 0.9684\n",
      "Epoch 79/100\n",
      "42000/42000 [==============================] - 1s 31us/sample - loss: 0.0449 - accuracy: 0.9953 - val_loss: 0.3503 - val_accuracy: 0.9652\n",
      "Epoch 80/100\n",
      "42000/42000 [==============================] - 1s 32us/sample - loss: 0.0512 - accuracy: 0.9936 - val_loss: 0.3454 - val_accuracy: 0.9661\n",
      "Epoch 81/100\n",
      "42000/42000 [==============================] - 1s 33us/sample - loss: 0.0780 - accuracy: 0.9900 - val_loss: 0.3686 - val_accuracy: 0.9626\n",
      "Epoch 82/100\n",
      "42000/42000 [==============================] - 1s 31us/sample - loss: 0.0528 - accuracy: 0.9937 - val_loss: 0.3552 - val_accuracy: 0.9648\n",
      "Epoch 83/100\n",
      "42000/42000 [==============================] - 1s 32us/sample - loss: 0.0564 - accuracy: 0.9930 - val_loss: 0.3257 - val_accuracy: 0.9666\n",
      "Epoch 84/100\n",
      "42000/42000 [==============================] - 1s 32us/sample - loss: 0.0520 - accuracy: 0.9931 - val_loss: 0.3534 - val_accuracy: 0.9634\n",
      "Epoch 85/100\n",
      "42000/42000 [==============================] - 1s 32us/sample - loss: 0.0800 - accuracy: 0.9893 - val_loss: 0.3510 - val_accuracy: 0.9610\n",
      "Epoch 86/100\n",
      "42000/42000 [==============================] - 1s 30us/sample - loss: 0.0536 - accuracy: 0.9924 - val_loss: 0.3373 - val_accuracy: 0.9657\n",
      "Epoch 87/100\n",
      "42000/42000 [==============================] - 1s 32us/sample - loss: 0.0515 - accuracy: 0.9933 - val_loss: 0.3289 - val_accuracy: 0.9643\n",
      "Epoch 88/100\n",
      "42000/42000 [==============================] - 1s 33us/sample - loss: 0.0462 - accuracy: 0.9940 - val_loss: 0.3530 - val_accuracy: 0.9639\n",
      "Epoch 89/100\n",
      "42000/42000 [==============================] - 1s 32us/sample - loss: 0.0476 - accuracy: 0.9946 - val_loss: 0.3141 - val_accuracy: 0.9669\n",
      "Epoch 90/100\n",
      "42000/42000 [==============================] - 1s 32us/sample - loss: 0.0500 - accuracy: 0.9930 - val_loss: 0.3153 - val_accuracy: 0.9662\n",
      "Epoch 91/100\n",
      "42000/42000 [==============================] - 1s 32us/sample - loss: 0.0524 - accuracy: 0.9932 - val_loss: 0.3230 - val_accuracy: 0.9659\n",
      "Epoch 92/100\n",
      "42000/42000 [==============================] - 1s 34us/sample - loss: 0.0598 - accuracy: 0.9916 - val_loss: 0.3340 - val_accuracy: 0.9646\n",
      "Epoch 93/100\n",
      "42000/42000 [==============================] - 1s 31us/sample - loss: 0.0436 - accuracy: 0.9945 - val_loss: 0.3382 - val_accuracy: 0.9656\n",
      "Epoch 94/100\n",
      "42000/42000 [==============================] - 1s 32us/sample - loss: 0.0424 - accuracy: 0.9951 - val_loss: 0.3152 - val_accuracy: 0.9655\n",
      "Epoch 95/100\n",
      "42000/42000 [==============================] - 1s 32us/sample - loss: 0.0330 - accuracy: 0.9965 - val_loss: 0.3219 - val_accuracy: 0.9676\n",
      "Epoch 96/100\n",
      "42000/42000 [==============================] - 1s 32us/sample - loss: 0.0409 - accuracy: 0.9944 - val_loss: 0.3289 - val_accuracy: 0.9659\n",
      "Epoch 97/100\n",
      "42000/42000 [==============================] - 1s 32us/sample - loss: 0.0330 - accuracy: 0.9960 - val_loss: 0.3395 - val_accuracy: 0.9658\n",
      "Epoch 98/100\n",
      "42000/42000 [==============================] - 1s 33us/sample - loss: 0.0382 - accuracy: 0.9948 - val_loss: 0.3450 - val_accuracy: 0.9649\n",
      "Epoch 99/100\n",
      "42000/42000 [==============================] - 1s 30us/sample - loss: 0.0489 - accuracy: 0.9931 - val_loss: 0.3163 - val_accuracy: 0.9671\n",
      "Epoch 100/100\n",
      "42000/42000 [==============================] - 1s 33us/sample - loss: 0.0357 - accuracy: 0.9953 - val_loss: 0.3280 - val_accuracy: 0.9665\n"
     ]
    }
   ],
   "source": [
    "history = model.fit(x_train, y_train, batch_size=256, epochs=100, validation_split=0.3, verbose=1)\n"
   ]
  },
  {
   "cell_type": "code",
   "execution_count": 12,
   "metadata": {},
   "outputs": [
    {
     "data": {
      "image/png": "[encoded data removed]",
      "text/plain": [
       "<Figure size 432x288 with 1 Axes>"
      ]
     },
     "metadata": {
      "needs_background": "light"
     },
     "output_type": "display_data"
    }
   ],
   "source": [
    "#要运行两次才显示图像，不知为什么\n",
    "import matplotlib.pyplot as plt\n",
    "plt.plot(history.history['accuracy'])\n",
    "plt.plot(history.history['val_accuracy'])\n",
    "plt.legend(['training', 'validation'], loc='upper left')\n",
    "plt.show()\n"
   ]
  },
  {
   "cell_type": "code",
   "execution_count": 11,
   "metadata": {},
   "outputs": [
    {
     "name": "stdout",
     "output_type": "stream",
     "text": [
      "10000/10000 [==============================] - 1s 86us/sample - loss: 0.2717 - accuracy: 0.9682\n"
     ]
    }
   ],
   "source": [
    "result = model.evaluate(x_test, y_test)\n"
   ]
  },
  {
   "cell_type": "code",
   "execution_count": 12,
   "metadata": {},
   "outputs": [],
   "source": [
    "# 3.权重初始化"
   ]
  },
  {
   "cell_type": "code",
   "execution_count": 13,
   "metadata": {},
   "outputs": [
    {
     "name": "stdout",
     "output_type": "stream",
     "text": [
      "Model: \"sequential_1\"\n",
      "_________________________________________________________________\n",
      "Layer (type)                 Output Shape              Param #   \n",
      "=================================================================\n",
      "dense_4 (Dense)              (None, 64)                50240     \n",
      "_________________________________________________________________\n",
      "dense_5 (Dense)              (None, 64)                4160      \n",
      "_________________________________________________________________\n",
      "dense_6 (Dense)              (None, 64)                4160      \n",
      "_________________________________________________________________\n",
      "dense_7 (Dense)              (None, 10)                650       \n",
      "=================================================================\n",
      "Total params: 59,210\n",
      "Trainable params: 59,210\n",
      "Non-trainable params: 0\n",
      "_________________________________________________________________\n"
     ]
    }
   ],
   "source": [
    "model = keras.Sequential([\n",
    "    layers.Dense(64, activation='relu', kernel_initializer='he_normal', input_shape=(784,)),\n",
    "    layers.Dense(64, activation='relu', kernel_initializer='he_normal'),\n",
    "    layers.Dense(64, activation='relu', kernel_initializer='he_normal'),\n",
    "    layers.Dense(10, activation='softmax')\n",
    "])\n",
    "model.compile(optimizer=keras.optimizers.Adam(),\n",
    "             loss=keras.losses.SparseCategoricalCrossentropy(),\n",
    "             metrics=['accuracy'])\n",
    "model.summary()\n"
   ]
  },
  {
   "cell_type": "code",
   "execution_count": 14,
   "metadata": {},
   "outputs": [],
   "source": [
    "history = model.fit(x_train, y_train, batch_size=256, epochs=100, validation_split=0.3, verbose=1)\n"
   ]
  },
  {
   "cell_type": "code",
   "execution_count": null,
   "metadata": {},
   "outputs": [],
   "source": []
  }
 ],
 "metadata": {
  "kernelspec": {
   "display_name": "Python 3",
   "language": "python",
   "name": "python3"
  },
  "language_info": {
   "codemirror_mode": {
    "name": "ipython",
    "version": 3
   },
   "file_extension": ".py",
   "mimetype": "text/x-python",
   "name": "python",
   "nbconvert_exporter": "python",
   "pygments_lexer": "ipython3",
   "version": "3.5.2"
  }
 },
 "nbformat": 4,
 "nbformat_minor": 2
}
